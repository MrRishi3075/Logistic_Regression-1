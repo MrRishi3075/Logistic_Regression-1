{
 "cells": [
  {
   "cell_type": "markdown",
   "id": "67dc9915-9769-4fe9-8260-92e656511752",
   "metadata": {},
   "source": [
    "### Q1. Explain the difference between linear regression and logistic regression models. Provide an example of a scenario where logistic regression would be more appropriate.\n"
   ]
  },
  {
   "cell_type": "markdown",
   "id": "e9af94eb-0a29-47f7-a272-a0b6d0ae17f8",
   "metadata": {},
   "source": [
    "### Difference between Linear Regression and Logistic Regression:\n",
    "\n",
    "#### Linear Regression:\n",
    "\n",
    "- Type: Regression model.\n",
    "1. Output: Predicts a continuous outcome.\n",
    "2. Function: Models the relationship between the dependent variable and one or more independent variables.\n",
    "\n",
    "\n",
    "#### Logistic Regression:\n",
    "\n",
    "1. Type: Classification model.\n",
    "2. Output: Predicts the probability of an instance belonging to a particular category.\n",
    "3. Function: Models the probability that the dependent variable belongs to a particular category.\n",
    "\n",
    "\n",
    "#### Example Scenario:\n",
    "\n",
    "- Linear Regression: Predicting house prices based on features like square footage, number of bedrooms, etc.\n",
    "- Logistic Regression: Predicting whether an email is spam or not based on features like sender, subject, and content."
   ]
  },
  {
   "cell_type": "markdown",
   "id": "1a4f0517-ed22-4410-9f46-e855ced8484c",
   "metadata": {},
   "source": [
    "\n",
    "### Q2. What is the cost function used in logistic regression, and how is it optimized?\n"
   ]
  },
  {
   "attachments": {
    "3d2a7e0c-e980-4899-a57d-3685d73621d6.png": {
     "image/png": "[encoded data removed]"
    }
   },
   "cell_type": "markdown",
   "id": "8e69c0d5-0917-4506-9106-03726a5309ed",
   "metadata": {},
   "source": [
    "#### Cost function in Logistic Regression and Optimization:\n",
    "**Cost Function (Log Loss):**\n",
    "![image.png](attachment:3d2a7e0c-e980-4899-a57d-3685d73621d6.png)\n",
    "\n",
    "**Optimization:**\n",
    "\n",
    "- Gradient Descent or other optimization algorithms are used to minimize the cost function.\n"
   ]
  },
  {
   "cell_type": "code",
   "execution_count": 1,
   "id": "aec35423-9934-480d-bf97-8d6de45516b4",
   "metadata": {},
   "outputs": [],
   "source": [
    "# Python code for logistic regression cost function\n",
    "import numpy as np\n",
    "\n",
    "def sigmoid(z):\n",
    "    return 1 / (1 + np.exp(-z))\n",
    "\n",
    "def cost_function(theta, X, y):\n",
    "    m = len(y)\n",
    "    h = sigmoid(X.dot(theta))\n",
    "    J = -1/m * (y.T @ np.log(h) + (1 - y).T @ np.log(1 - h))\n",
    "    return J\n"
   ]
  },
  {
   "cell_type": "markdown",
   "id": "ac09c629-a993-4051-bcbc-fb71e5a9d9fd",
   "metadata": {},
   "source": [
    "\n",
    "### Q3. Explain the concept of regularization in logistic regression and how it helps prevent overfitting.\n"
   ]
  },
  {
   "cell_type": "markdown",
   "id": "1af09108-fcb8-41fb-afea-c4b946d56bb9",
   "metadata": {},
   "source": [
    "#### Regularization in Logistic Regression:\n",
    "**Concept:**\n",
    "\n",
    "- Regularization adds a penalty term to the cost function to avoid overfitting.\n",
    "- Two types: L1 regularization (Lasso) and L2 regularization (Ridge)."
   ]
  },
  {
   "cell_type": "code",
   "execution_count": 3,
   "id": "a67b5889-cfde-4ba6-ba83-900946c13a34",
   "metadata": {},
   "outputs": [
    {
     "ename": "NameError",
     "evalue": "name 'X' is not defined",
     "output_type": "error",
     "traceback": [
      "\u001b[0;31m---------------------------------------------------------------------------\u001b[0m",
      "\u001b[0;31mNameError\u001b[0m                                 Traceback (most recent call last)",
      "Cell \u001b[0;32mIn[3], line 5\u001b[0m\n\u001b[1;32m      2\u001b[0m \u001b[38;5;28;01mfrom\u001b[39;00m \u001b[38;5;21;01msklearn\u001b[39;00m\u001b[38;5;21;01m.\u001b[39;00m\u001b[38;5;21;01mlinear_model\u001b[39;00m \u001b[38;5;28;01mimport\u001b[39;00m LogisticRegression\n\u001b[1;32m      4\u001b[0m model \u001b[38;5;241m=\u001b[39m LogisticRegression(penalty\u001b[38;5;241m=\u001b[39m\u001b[38;5;124m'\u001b[39m\u001b[38;5;124ml2\u001b[39m\u001b[38;5;124m'\u001b[39m, C\u001b[38;5;241m=\u001b[39m\u001b[38;5;241m1.0\u001b[39m)\n\u001b[0;32m----> 5\u001b[0m model\u001b[38;5;241m.\u001b[39mfit(\u001b[43mX\u001b[49m, y)\n",
      "\u001b[0;31mNameError\u001b[0m: name 'X' is not defined"
     ]
    }
   ],
   "source": [
    "# Python code for logistic regression with L2 regularization\n",
    "from sklearn.linear_model import LogisticRegression\n",
    "\n",
    "model = LogisticRegression(penalty='l2', C=1.0)\n",
    "model.fit(X, y)\n"
   ]
  },
  {
   "cell_type": "markdown",
   "id": "af28a908-d25b-4e87-88c3-6fb641e7aa21",
   "metadata": {},
   "source": [
    "\n",
    "### Q4. What is the ROC curve, and how is it used to evaluate the performance of the logistic regression model?\n"
   ]
  },
  {
   "cell_type": "markdown",
   "id": "0a0703ec-1055-41d5-bfd1-82e9b9cb7463",
   "metadata": {},
   "source": [
    "#### ROC Curve in Logistic Regression:\n",
    "**Concept:**\n",
    "\n",
    "- ROC (Receiver Operating Characteristic) curve plots the true positive rate against the false positive rate.\n",
    "- AUC (Area Under the Curve) is used to quantify the ROC curve."
   ]
  },
  {
   "cell_type": "code",
   "execution_count": 4,
   "id": "4270267c-4a7e-4939-940e-df7f4c4f551f",
   "metadata": {},
   "outputs": [
    {
     "ename": "NameError",
     "evalue": "name 'X_test' is not defined",
     "output_type": "error",
     "traceback": [
      "\u001b[0;31m---------------------------------------------------------------------------\u001b[0m",
      "\u001b[0;31mNameError\u001b[0m                                 Traceback (most recent call last)",
      "Cell \u001b[0;32mIn[4], line 5\u001b[0m\n\u001b[1;32m      2\u001b[0m \u001b[38;5;28;01mfrom\u001b[39;00m \u001b[38;5;21;01msklearn\u001b[39;00m\u001b[38;5;21;01m.\u001b[39;00m\u001b[38;5;21;01mmetrics\u001b[39;00m \u001b[38;5;28;01mimport\u001b[39;00m roc_curve, roc_auc_score\n\u001b[1;32m      3\u001b[0m \u001b[38;5;28;01mimport\u001b[39;00m \u001b[38;5;21;01mmatplotlib\u001b[39;00m\u001b[38;5;21;01m.\u001b[39;00m\u001b[38;5;21;01mpyplot\u001b[39;00m \u001b[38;5;28;01mas\u001b[39;00m \u001b[38;5;21;01mplt\u001b[39;00m\n\u001b[0;32m----> 5\u001b[0m y_probs \u001b[38;5;241m=\u001b[39m model\u001b[38;5;241m.\u001b[39mpredict_proba(\u001b[43mX_test\u001b[49m)[:, \u001b[38;5;241m1\u001b[39m]\n\u001b[1;32m      6\u001b[0m fpr, tpr, _ \u001b[38;5;241m=\u001b[39m roc_curve(y_test, y_probs)\n\u001b[1;32m      8\u001b[0m plt\u001b[38;5;241m.\u001b[39mplot(fpr, tpr, label\u001b[38;5;241m=\u001b[39m\u001b[38;5;124m'\u001b[39m\u001b[38;5;124mROC Curve\u001b[39m\u001b[38;5;124m'\u001b[39m)\n",
      "\u001b[0;31mNameError\u001b[0m: name 'X_test' is not defined"
     ]
    }
   ],
   "source": [
    "# Python code for ROC curve\n",
    "from sklearn.metrics import roc_curve, roc_auc_score\n",
    "import matplotlib.pyplot as plt\n",
    "\n",
    "y_probs = model.predict_proba(X_test)[:, 1]\n",
    "fpr, tpr, _ = roc_curve(y_test, y_probs)\n",
    "\n",
    "plt.plot(fpr, tpr, label='ROC Curve')\n",
    "plt.xlabel('False Positive Rate')\n",
    "plt.ylabel('True Positive Rate')\n",
    "plt.legend()\n",
    "plt.show()\n"
   ]
  },
  {
   "cell_type": "markdown",
   "id": "233563f1-0142-42fa-95cb-2f444ad0dc8b",
   "metadata": {
    "tags": []
   },
   "source": [
    "\n",
    "### Q5. What are some common techniques for feature selection in logistic regression? How do these techniques help improve the model's performance?\n"
   ]
  },
  {
   "cell_type": "markdown",
   "id": "e55a2408-b859-41cf-ac3e-f277cb87e324",
   "metadata": {},
   "source": [
    "#### Feature Selection in Logistic Regression:\n",
    "**Techniques:**\n",
    "\n",
    "1. Recursive Feature Elimination (RFE)\n",
    "2. L1 Regularization (Lasso)\n",
    "3. Feature Importance from Tree-Based Models"
   ]
  },
  {
   "cell_type": "code",
   "execution_count": 5,
   "id": "1fc41610-16e2-4592-818a-31d1a225ec25",
   "metadata": {},
   "outputs": [
    {
     "ename": "NameError",
     "evalue": "name 'X_train' is not defined",
     "output_type": "error",
     "traceback": [
      "\u001b[0;31m---------------------------------------------------------------------------\u001b[0m",
      "\u001b[0;31mNameError\u001b[0m                                 Traceback (most recent call last)",
      "Cell \u001b[0;32mIn[5], line 5\u001b[0m\n\u001b[1;32m      2\u001b[0m \u001b[38;5;28;01mfrom\u001b[39;00m \u001b[38;5;21;01msklearn\u001b[39;00m\u001b[38;5;21;01m.\u001b[39;00m\u001b[38;5;21;01mlinear_model\u001b[39;00m \u001b[38;5;28;01mimport\u001b[39;00m LogisticRegression\n\u001b[1;32m      4\u001b[0m model \u001b[38;5;241m=\u001b[39m LogisticRegression(penalty\u001b[38;5;241m=\u001b[39m\u001b[38;5;124m'\u001b[39m\u001b[38;5;124ml1\u001b[39m\u001b[38;5;124m'\u001b[39m, C\u001b[38;5;241m=\u001b[39m\u001b[38;5;241m1.0\u001b[39m)\n\u001b[0;32m----> 5\u001b[0m model\u001b[38;5;241m.\u001b[39mfit(\u001b[43mX_train\u001b[49m, y_train)\n\u001b[1;32m      6\u001b[0m selected_features \u001b[38;5;241m=\u001b[39m X\u001b[38;5;241m.\u001b[39mcolumns[model\u001b[38;5;241m.\u001b[39mcoef_[\u001b[38;5;241m0\u001b[39m] \u001b[38;5;241m!=\u001b[39m \u001b[38;5;241m0\u001b[39m]\n",
      "\u001b[0;31mNameError\u001b[0m: name 'X_train' is not defined"
     ]
    }
   ],
   "source": [
    "# Python code for feature selection using L1 regularization\n",
    "from sklearn.linear_model import LogisticRegression\n",
    "\n",
    "model = LogisticRegression(penalty='l1', C=1.0)\n",
    "model.fit(X_train, y_train)\n",
    "selected_features = X.columns[model.coef_[0] != 0]\n"
   ]
  },
  {
   "cell_type": "markdown",
   "id": "d8e29ea4-e03f-43d9-9a5a-d0ba4ceac8b7",
   "metadata": {},
   "source": [
    "\n",
    "### Q6. How can you handle imbalanced datasets in logistic regression? What are some strategies for dealing with class imbalance?\n"
   ]
  },
  {
   "cell_type": "markdown",
   "id": "889edc95-9bc1-47ab-b324-48de76ee9208",
   "metadata": {},
   "source": [
    "#### Handling Imbalanced Datasets in Logistic Regression:\n",
    "- Logistic regression, like many machine learning algorithms, can be sensitive to imbalanced datasets where one class significantly outnumbers the other. This imbalance can lead to biased models that perform well on the majority class but poorly on the minority class. Here are some strategies for dealing with class imbalance:\n",
    "\n",
    "**Resampling:**\n",
    "\n",
    "- Oversampling the minority class: Increase the number of instances in the minority class by randomly duplicating them or generating synthetic examples."
   ]
  },
  {
   "cell_type": "code",
   "execution_count": null,
   "id": "50b7a8ee-ba07-42ab-a7e9-149f8c37562d",
   "metadata": {},
   "outputs": [],
   "source": [
    "from imblearn.over_sampling import SMOTE\n",
    "\n",
    "smote = SMOTE(random_state=42)\n",
    "X_resampled, y_resampled = smote.fit_resample(X, y)"
   ]
  },
  {
   "cell_type": "markdown",
   "id": "26a10040-43eb-4b82-93ad-2fe2aa683d3f",
   "metadata": {},
   "source": [
    "- **Undersampling the majority class**: Reduce the number of instances in the majority class randomly."
   ]
  },
  {
   "cell_type": "code",
   "execution_count": null,
   "id": "cc12aa2b-0d53-49a0-b8e2-9b566a7bc662",
   "metadata": {},
   "outputs": [],
   "source": [
    "from imblearn.under_sampling import RandomUnderSampler\n",
    "\n",
    "rus = RandomUnderSampler(random_state=42)\n",
    "X_resampled, y_resampled = rus.fit_resample(X, y)"
   ]
  },
  {
   "cell_type": "markdown",
   "id": "d2ee271f-fd98-448d-a981-c03b5d54a655",
   "metadata": {},
   "source": [
    "**Synthetic Minority Over-sampling Technique (SMOTE):**\n",
    "- Generate synthetic examples for the minority class to balance the class distribution."
   ]
  },
  {
   "cell_type": "code",
   "execution_count": null,
   "id": "bbfded0b-11ba-49e8-8a9c-4574f0bc1372",
   "metadata": {},
   "outputs": [],
   "source": [
    "from imblearn.over_sampling import SMOTE\n",
    "\n",
    "smote = SMOTE(random_state=42)\n",
    "X_resampled, y_resampled = smote.fit_resample(X, y)"
   ]
  },
  {
   "cell_type": "markdown",
   "id": "c64dcd27-1e2a-4373-a0f2-6574054932f9",
   "metadata": {},
   "source": [
    "**Different Evaluation Metrics:**\n",
    "- Instead of accuracy, use metrics that consider both false positives and false negatives, such as precision, recall, F1-score, or area under the ROC curve (AUC-ROC)."
   ]
  },
  {
   "cell_type": "code",
   "execution_count": null,
   "id": "5cb040ce-bd09-4edc-a8de-db4469314248",
   "metadata": {},
   "outputs": [],
   "source": [
    "from sklearn.metrics import classification_report\n",
    "\n",
    "y_pred = model.predict(X_test)\n",
    "print(classification_report(y_test, y_pred))"
   ]
  },
  {
   "cell_type": "markdown",
   "id": "b78ee4fe-84ee-4fde-b9bb-a2bb4c74e99a",
   "metadata": {},
   "source": [
    "- Adjust the decision threshold based on the specific needs of the problem. This can help balance precision and recall."
   ]
  },
  {
   "cell_type": "code",
   "execution_count": null,
   "id": "9550ae83-8937-47cd-ad28-106d16ebcb6b",
   "metadata": {},
   "outputs": [],
   "source": [
    "# Adjust decision threshold\n",
    "y_probs = model.predict_proba(X_test)[:, 1]\n",
    "y_pred_adjusted = (y_probs > 0.4).astype(int)"
   ]
  },
  {
   "cell_type": "markdown",
   "id": "417bbaa7-b86d-45f2-9b54-e989d5601f3b",
   "metadata": {},
   "source": [
    "**Class Weights:**\n",
    "- Assign different weights to classes to make the algorithm more sensitive to the minority class."
   ]
  },
  {
   "cell_type": "code",
   "execution_count": null,
   "id": "1c20aa0f-e019-4b38-ad79-f16c6f599fc7",
   "metadata": {},
   "outputs": [],
   "source": [
    "from sklearn.linear_model import LogisticRegression\n",
    "\n",
    "model = LogisticRegression(class_weight='balanced')\n",
    "model.fit(X_train, y_train)"
   ]
  },
  {
   "cell_type": "markdown",
   "id": "e39b28b1-d332-4ec6-bc43-30e1152a785a",
   "metadata": {},
   "source": [
    "**These strategies should be chosen based on the characteristics of the dataset and the goals of the analysis. Experimentation and validation with appropriate metrics are crucial to finding the most effective approach for a specific imbalanced dataset.**"
   ]
  },
  {
   "cell_type": "markdown",
   "id": "1a6e8c10-07a5-412a-9470-926a97501353",
   "metadata": {},
   "source": [
    "**Some Strategies:**\n",
    "\n",
    "1. Resampling (oversampling minority or undersampling majority class).\n",
    "2. Synthetic Minority Over-sampling Technique (SMOTE).\n",
    "3. Using different evaluation metrics (precision, recall, F1-score)."
   ]
  },
  {
   "cell_type": "markdown",
   "id": "f1dd5b93-3a61-4e67-b5ca-e5e57e474549",
   "metadata": {},
   "source": [
    "\n",
    "### Q7. Can you discuss some common issues and challenges that may arise when implementing logistic regression, and how they can be addressed? For example, what can be done if there is multicollinearity among the independent variables?"
   ]
  },
  {
   "cell_type": "markdown",
   "id": "34350cbb-ee66-4a3c-97dc-cb5f4b631cb5",
   "metadata": {},
   "source": [
    "#### 1. Multicollinearity:\n",
    "\n",
    "**Issue:**\n",
    "- Multicollinearity occurs when two or more independent variables in the model are highly correlated. This can cause problems in estimating the coefficients accurately.\n",
    "**Solution:**\n",
    "- Identify and assess multicollinearity using techniques like variance inflation factor (VIF). If high multicollinearity is detected, consider removing one of the correlated variables or using dimensionality reduction techniques like principal component analysis (PCA).\n",
    "\n",
    "#### 1. Overfitting:\n",
    "\n",
    "**Issue:**\n",
    "- Logistic regression models may become too complex and fit the training data too closely, leading to poor generalization on new data.\n",
    "**Solution:**\n",
    "- Regularization techniques such as L1 (Lasso) or L2 (Ridge) regularization can be applied to penalize overly complex models and prevent overfitting.\n",
    "\n",
    "#### 1. Underfitting:\n",
    "\n",
    "**Issue:**\n",
    "- On the other hand, logistic regression models may be too simple to capture the underlying patterns in the data, leading to poor predictive performance.\n",
    "**Solution:**\n",
    "- Increase the complexity of the model by adding more relevant features or polynomial terms to better fit the data.\n",
    "\n",
    "#### 1. Imbalanced Classes:\n",
    "\n",
    "**Issue:**\n",
    "- If the classes in the target variable are imbalanced (one class is significantly more frequent than the other), the model may be biased towards the majority class.\n",
    "**Solution:**\n",
    "- Use techniques like oversampling the minority class, undersampling the majority class, or using synthetic data generation methods to balance the class distribution.\n",
    "\n",
    "#### 1. Outliers:\n",
    "\n",
    "**Issue:**\n",
    "- Outliers can disproportionately influence the logistic regression coefficients and model performance.\n",
    "**Solution:**\n",
    "- Identify and handle outliers using techniques such as removing extreme values, transforming variables, or using robust regression methods.\n",
    "\n",
    "#### 1. Non-linearity:\n",
    "\n",
    "**Issue:**\n",
    "- Logistic regression assumes a linear relationship between the independent variables and the log-odds of the dependent variable. If the relationship is non-linear, the model may not perform well.\n",
    "**Solution:**\n",
    "- Transform variables or use polynomial terms to capture non-linear relationships. Alternatively, consider using non-linear models like decision trees or support vector machines.\n",
    "\n",
    "#### 1. Model Interpretability:\n",
    "\n",
    "**Issue:** \n",
    "- Logistic regression coefficients are easily interpretable, but in the presence of correlated variables or interactions, interpretation can become complex.\n",
    "**Solution:**\n",
    "- Carefully interpret coefficients, use domain knowledge, and consider interaction terms. Visualization techniques such as partial dependence plots can also aid in interpretation.\n",
    "\n",
    "#### 1. Data Quality:\n",
    "\n",
    "**Issue:**\n",
    "- Poor quality data, including missing values and measurement errors, can affect the performance of logistic regression models.\n",
    "**Solution:**\n",
    "- Address missing data through imputation or removal of affected observations. Clean and preprocess data to ensure accuracy.\n",
    "\n",
    "**Addressing these challenges requires a combination of statistical techniques, domain knowledge, and a thoughtful approach to model building and evaluation. Regular validation using techniques like cross-validation is crucial to ensure the model's performance on new data.**"
   ]
  },
  {
   "cell_type": "code",
   "execution_count": null,
   "id": "6fa3caf7-9bbb-4d7d-a650-b9f19f94f2da",
   "metadata": {},
   "outputs": [],
   "source": []
  },
  {
   "cell_type": "code",
   "execution_count": null,
   "id": "65bafa9e-cba6-4797-9bcb-ea6343c12ed0",
   "metadata": {},
   "outputs": [],
   "source": []
  }
 ],
 "metadata": {
  "kernelspec": {
   "display_name": "Python 3 (ipykernel)",
   "language": "python",
   "name": "python3"
  },
  "language_info": {
   "codemirror_mode": {
    "name": "ipython",
    "version": 3
   },
   "file_extension": ".py",
   "mimetype": "text/x-python",
   "name": "python",
   "nbconvert_exporter": "python",
   "pygments_lexer": "ipython3",
   "version": "3.10.8"
  }
 },
 "nbformat": 4,
 "nbformat_minor": 5
}
